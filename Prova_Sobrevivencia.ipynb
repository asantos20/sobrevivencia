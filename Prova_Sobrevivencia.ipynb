{
  "nbformat": 4,
  "nbformat_minor": 0,
  "metadata": {
    "colab": {
      "provenance": [],
      "authorship_tag": "ABX9TyP9AZ3lKb1PoptiJt8I49tz",
      "include_colab_link": true
    },
    "kernelspec": {
      "name": "ir",
      "display_name": "R"
    },
    "language_info": {
      "name": "R"
    }
  },
  "cells": [
    {
      "cell_type": "markdown",
      "metadata": {
        "id": "view-in-github",
        "colab_type": "text"
      },
      "source": [
        "<a href=\"https://colab.research.google.com/github/asantos20/sobrevivencia/blob/main/Prova_Sobrevivencia.ipynb\" target=\"_parent\"><img src=\"https://colab.research.google.com/assets/colab-badge.svg\" alt=\"Open In Colab\"/></a>"
      ]
    },
    {
      "cell_type": "markdown",
      "source": [
        "Setando diretório"
      ],
      "metadata": {
        "id": "rbfibDngDw1n"
      }
    },
    {
      "cell_type": "code",
      "source": [
        "setwd(\"/content/Prova\")"
      ],
      "metadata": {
        "id": "_P6QCC7ECHSZ"
      },
      "execution_count": 1,
      "outputs": []
    },
    {
      "cell_type": "markdown",
      "source": [
        "Bibliotecas"
      ],
      "metadata": {
        "id": "hrgI9PixD5p4"
      }
    },
    {
      "cell_type": "code",
      "source": [
        "install.packages('lubridate')\n",
        "install.packages('dplyr')\n",
        "install.packages('tidyr')\n",
        "install.packages('survival')\n",
        "install.packages('survminer')"
      ],
      "metadata": {
        "id": "51T6SLjbCmz7"
      },
      "execution_count": null,
      "outputs": []
    },
    {
      "cell_type": "code",
      "source": [
        "install.packages('ggplot2')"
      ],
      "metadata": {
        "id": "mPWTuxLYNJKQ"
      },
      "execution_count": null,
      "outputs": []
    },
    {
      "cell_type": "markdown",
      "source": [
        "Chamando bibliotecas"
      ],
      "metadata": {
        "id": "MOMZtkRSD9rI"
      }
    },
    {
      "cell_type": "code",
      "source": [
        "#### Pacotes\n",
        "\n",
        "library(lubridate) # organizar datas\n",
        "library(dplyr) # manipular dados\n",
        "library(tidyr) # manipular dados\n",
        "library(survival) # estimar curvas\n",
        "library(survminer) # sobrevivencia com ggplot"
      ],
      "metadata": {
        "id": "aFyI3QvDCH1A"
      },
      "execution_count": null,
      "outputs": []
    },
    {
      "cell_type": "code",
      "source": [
        "library(ggplot2)"
      ],
      "metadata": {
        "id": "GgROtLv4NPkI"
      },
      "execution_count": 29,
      "outputs": []
    },
    {
      "cell_type": "markdown",
      "source": [
        "Base de dados"
      ],
      "metadata": {
        "id": "7x5md29sECNw"
      }
    },
    {
      "cell_type": "code",
      "source": [
        "dados <- read.csv('Telecomunicacoes.csv', h = T, sep = ',')"
      ],
      "metadata": {
        "id": "XfG8dyL1CICo"
      },
      "execution_count": null,
      "outputs": []
    },
    {
      "cell_type": "code",
      "source": [
        "head(dados)"
      ],
      "metadata": {
        "colab": {
          "base_uri": "https://localhost:8080/",
          "height": 410
        },
        "id": "l5dsDZrJFppA",
        "outputId": "c61ba927-3139-4213-f2eb-0e1070c9208d"
      },
      "execution_count": 6,
      "outputs": [
        {
          "output_type": "display_data",
          "data": {
            "text/html": [
              "<table class=\"dataframe\">\n",
              "<caption>A data.frame: 6 × 21</caption>\n",
              "<thead>\n",
              "\t<tr><th></th><th scope=col>customerID</th><th scope=col>gender</th><th scope=col>SeniorCitizen</th><th scope=col>Partner</th><th scope=col>Dependents</th><th scope=col>tenure</th><th scope=col>PhoneService</th><th scope=col>MultipleLines</th><th scope=col>InternetService</th><th scope=col>OnlineSecurity</th><th scope=col>⋯</th><th scope=col>DeviceProtection</th><th scope=col>TechSupport</th><th scope=col>StreamingTV</th><th scope=col>StreamingMovies</th><th scope=col>Contract</th><th scope=col>PaperlessBilling</th><th scope=col>PaymentMethod</th><th scope=col>MonthlyCharges</th><th scope=col>TotalCharges</th><th scope=col>Churn</th></tr>\n",
              "\t<tr><th></th><th scope=col>&lt;chr&gt;</th><th scope=col>&lt;chr&gt;</th><th scope=col>&lt;int&gt;</th><th scope=col>&lt;chr&gt;</th><th scope=col>&lt;chr&gt;</th><th scope=col>&lt;int&gt;</th><th scope=col>&lt;chr&gt;</th><th scope=col>&lt;chr&gt;</th><th scope=col>&lt;chr&gt;</th><th scope=col>&lt;chr&gt;</th><th scope=col>⋯</th><th scope=col>&lt;chr&gt;</th><th scope=col>&lt;chr&gt;</th><th scope=col>&lt;chr&gt;</th><th scope=col>&lt;chr&gt;</th><th scope=col>&lt;chr&gt;</th><th scope=col>&lt;chr&gt;</th><th scope=col>&lt;chr&gt;</th><th scope=col>&lt;dbl&gt;</th><th scope=col>&lt;dbl&gt;</th><th scope=col>&lt;chr&gt;</th></tr>\n",
              "</thead>\n",
              "<tbody>\n",
              "\t<tr><th scope=row>1</th><td>7590-VHVEG</td><td>Female</td><td>0</td><td>Yes</td><td>No</td><td> 1</td><td>No </td><td>No phone service</td><td>DSL        </td><td>No </td><td>⋯</td><td>No </td><td>No </td><td>No </td><td>No </td><td>Month-to-month</td><td>Yes</td><td>Electronic check         </td><td>29.85</td><td>  29.85</td><td>No </td></tr>\n",
              "\t<tr><th scope=row>2</th><td>5575-GNVDE</td><td>Male  </td><td>0</td><td>No </td><td>No</td><td>34</td><td>Yes</td><td>No              </td><td>DSL        </td><td>Yes</td><td>⋯</td><td>Yes</td><td>No </td><td>No </td><td>No </td><td>One year      </td><td>No </td><td>Mailed check             </td><td>56.95</td><td>1889.50</td><td>No </td></tr>\n",
              "\t<tr><th scope=row>3</th><td>3668-QPYBK</td><td>Male  </td><td>0</td><td>No </td><td>No</td><td> 2</td><td>Yes</td><td>No              </td><td>DSL        </td><td>Yes</td><td>⋯</td><td>No </td><td>No </td><td>No </td><td>No </td><td>Month-to-month</td><td>Yes</td><td>Mailed check             </td><td>53.85</td><td> 108.15</td><td>Yes</td></tr>\n",
              "\t<tr><th scope=row>4</th><td>7795-CFOCW</td><td>Male  </td><td>0</td><td>No </td><td>No</td><td>45</td><td>No </td><td>No phone service</td><td>DSL        </td><td>Yes</td><td>⋯</td><td>Yes</td><td>Yes</td><td>No </td><td>No </td><td>One year      </td><td>No </td><td>Bank transfer (automatic)</td><td>42.30</td><td>1840.75</td><td>No </td></tr>\n",
              "\t<tr><th scope=row>5</th><td>9237-HQITU</td><td>Female</td><td>0</td><td>No </td><td>No</td><td> 2</td><td>Yes</td><td>No              </td><td>Fiber optic</td><td>No </td><td>⋯</td><td>No </td><td>No </td><td>No </td><td>No </td><td>Month-to-month</td><td>Yes</td><td>Electronic check         </td><td>70.70</td><td> 151.65</td><td>Yes</td></tr>\n",
              "\t<tr><th scope=row>6</th><td>9305-CDSKC</td><td>Female</td><td>0</td><td>No </td><td>No</td><td> 8</td><td>Yes</td><td>Yes             </td><td>Fiber optic</td><td>No </td><td>⋯</td><td>Yes</td><td>No </td><td>Yes</td><td>Yes</td><td>Month-to-month</td><td>Yes</td><td>Electronic check         </td><td>99.65</td><td> 820.50</td><td>Yes</td></tr>\n",
              "</tbody>\n",
              "</table>\n"
            ],
            "text/markdown": "\nA data.frame: 6 × 21\n\n| <!--/--> | customerID &lt;chr&gt; | gender &lt;chr&gt; | SeniorCitizen &lt;int&gt; | Partner &lt;chr&gt; | Dependents &lt;chr&gt; | tenure &lt;int&gt; | PhoneService &lt;chr&gt; | MultipleLines &lt;chr&gt; | InternetService &lt;chr&gt; | OnlineSecurity &lt;chr&gt; | ⋯ ⋯ | DeviceProtection &lt;chr&gt; | TechSupport &lt;chr&gt; | StreamingTV &lt;chr&gt; | StreamingMovies &lt;chr&gt; | Contract &lt;chr&gt; | PaperlessBilling &lt;chr&gt; | PaymentMethod &lt;chr&gt; | MonthlyCharges &lt;dbl&gt; | TotalCharges &lt;dbl&gt; | Churn &lt;chr&gt; |\n|---|---|---|---|---|---|---|---|---|---|---|---|---|---|---|---|---|---|---|---|---|---|\n| 1 | 7590-VHVEG | Female | 0 | Yes | No |  1 | No  | No phone service | DSL         | No  | ⋯ | No  | No  | No  | No  | Month-to-month | Yes | Electronic check          | 29.85 |   29.85 | No  |\n| 2 | 5575-GNVDE | Male   | 0 | No  | No | 34 | Yes | No               | DSL         | Yes | ⋯ | Yes | No  | No  | No  | One year       | No  | Mailed check              | 56.95 | 1889.50 | No  |\n| 3 | 3668-QPYBK | Male   | 0 | No  | No |  2 | Yes | No               | DSL         | Yes | ⋯ | No  | No  | No  | No  | Month-to-month | Yes | Mailed check              | 53.85 |  108.15 | Yes |\n| 4 | 7795-CFOCW | Male   | 0 | No  | No | 45 | No  | No phone service | DSL         | Yes | ⋯ | Yes | Yes | No  | No  | One year       | No  | Bank transfer (automatic) | 42.30 | 1840.75 | No  |\n| 5 | 9237-HQITU | Female | 0 | No  | No |  2 | Yes | No               | Fiber optic | No  | ⋯ | No  | No  | No  | No  | Month-to-month | Yes | Electronic check          | 70.70 |  151.65 | Yes |\n| 6 | 9305-CDSKC | Female | 0 | No  | No |  8 | Yes | Yes              | Fiber optic | No  | ⋯ | Yes | No  | Yes | Yes | Month-to-month | Yes | Electronic check          | 99.65 |  820.50 | Yes |\n\n",
            "text/latex": "A data.frame: 6 × 21\n\\begin{tabular}{r|lllllllllllllllllllll}\n  & customerID & gender & SeniorCitizen & Partner & Dependents & tenure & PhoneService & MultipleLines & InternetService & OnlineSecurity & ⋯ & DeviceProtection & TechSupport & StreamingTV & StreamingMovies & Contract & PaperlessBilling & PaymentMethod & MonthlyCharges & TotalCharges & Churn\\\\\n  & <chr> & <chr> & <int> & <chr> & <chr> & <int> & <chr> & <chr> & <chr> & <chr> & ⋯ & <chr> & <chr> & <chr> & <chr> & <chr> & <chr> & <chr> & <dbl> & <dbl> & <chr>\\\\\n\\hline\n\t1 & 7590-VHVEG & Female & 0 & Yes & No &  1 & No  & No phone service & DSL         & No  & ⋯ & No  & No  & No  & No  & Month-to-month & Yes & Electronic check          & 29.85 &   29.85 & No \\\\\n\t2 & 5575-GNVDE & Male   & 0 & No  & No & 34 & Yes & No               & DSL         & Yes & ⋯ & Yes & No  & No  & No  & One year       & No  & Mailed check              & 56.95 & 1889.50 & No \\\\\n\t3 & 3668-QPYBK & Male   & 0 & No  & No &  2 & Yes & No               & DSL         & Yes & ⋯ & No  & No  & No  & No  & Month-to-month & Yes & Mailed check              & 53.85 &  108.15 & Yes\\\\\n\t4 & 7795-CFOCW & Male   & 0 & No  & No & 45 & No  & No phone service & DSL         & Yes & ⋯ & Yes & Yes & No  & No  & One year       & No  & Bank transfer (automatic) & 42.30 & 1840.75 & No \\\\\n\t5 & 9237-HQITU & Female & 0 & No  & No &  2 & Yes & No               & Fiber optic & No  & ⋯ & No  & No  & No  & No  & Month-to-month & Yes & Electronic check          & 70.70 &  151.65 & Yes\\\\\n\t6 & 9305-CDSKC & Female & 0 & No  & No &  8 & Yes & Yes              & Fiber optic & No  & ⋯ & Yes & No  & Yes & Yes & Month-to-month & Yes & Electronic check          & 99.65 &  820.50 & Yes\\\\\n\\end{tabular}\n",
            "text/plain": [
              "  customerID gender SeniorCitizen Partner Dependents tenure PhoneService\n",
              "1 7590-VHVEG Female 0             Yes     No          1     No          \n",
              "2 5575-GNVDE Male   0             No      No         34     Yes         \n",
              "3 3668-QPYBK Male   0             No      No          2     Yes         \n",
              "4 7795-CFOCW Male   0             No      No         45     No          \n",
              "5 9237-HQITU Female 0             No      No          2     Yes         \n",
              "6 9305-CDSKC Female 0             No      No          8     Yes         \n",
              "  MultipleLines    InternetService OnlineSecurity ⋯ DeviceProtection\n",
              "1 No phone service DSL             No             ⋯ No              \n",
              "2 No               DSL             Yes            ⋯ Yes             \n",
              "3 No               DSL             Yes            ⋯ No              \n",
              "4 No phone service DSL             Yes            ⋯ Yes             \n",
              "5 No               Fiber optic     No             ⋯ No              \n",
              "6 Yes              Fiber optic     No             ⋯ Yes             \n",
              "  TechSupport StreamingTV StreamingMovies Contract       PaperlessBilling\n",
              "1 No          No          No              Month-to-month Yes             \n",
              "2 No          No          No              One year       No              \n",
              "3 No          No          No              Month-to-month Yes             \n",
              "4 Yes         No          No              One year       No              \n",
              "5 No          No          No              Month-to-month Yes             \n",
              "6 No          Yes         Yes             Month-to-month Yes             \n",
              "  PaymentMethod             MonthlyCharges TotalCharges Churn\n",
              "1 Electronic check          29.85            29.85      No   \n",
              "2 Mailed check              56.95          1889.50      No   \n",
              "3 Mailed check              53.85           108.15      Yes  \n",
              "4 Bank transfer (automatic) 42.30          1840.75      No   \n",
              "5 Electronic check          70.70           151.65      Yes  \n",
              "6 Electronic check          99.65           820.50      Yes  "
            ]
          },
          "metadata": {}
        }
      ]
    },
    {
      "cell_type": "code",
      "source": [
        "names(dados) ## Nome das variáveis"
      ],
      "metadata": {
        "colab": {
          "base_uri": "https://localhost:8080/",
          "height": 52
        },
        "id": "tEqO8VuFF8pH",
        "outputId": "056a02d4-8c43-4922-f8c0-00f038298d54"
      },
      "execution_count": 8,
      "outputs": [
        {
          "output_type": "display_data",
          "data": {
            "text/html": [
              "<style>\n",
              ".list-inline {list-style: none; margin:0; padding: 0}\n",
              ".list-inline>li {display: inline-block}\n",
              ".list-inline>li:not(:last-child)::after {content: \"\\00b7\"; padding: 0 .5ex}\n",
              "</style>\n",
              "<ol class=list-inline><li>'customerID'</li><li>'gender'</li><li>'SeniorCitizen'</li><li>'Partner'</li><li>'Dependents'</li><li>'tenure'</li><li>'PhoneService'</li><li>'MultipleLines'</li><li>'InternetService'</li><li>'OnlineSecurity'</li><li>'OnlineBackup'</li><li>'DeviceProtection'</li><li>'TechSupport'</li><li>'StreamingTV'</li><li>'StreamingMovies'</li><li>'Contract'</li><li>'PaperlessBilling'</li><li>'PaymentMethod'</li><li>'MonthlyCharges'</li><li>'TotalCharges'</li><li>'Churn'</li></ol>\n"
            ],
            "text/markdown": "1. 'customerID'\n2. 'gender'\n3. 'SeniorCitizen'\n4. 'Partner'\n5. 'Dependents'\n6. 'tenure'\n7. 'PhoneService'\n8. 'MultipleLines'\n9. 'InternetService'\n10. 'OnlineSecurity'\n11. 'OnlineBackup'\n12. 'DeviceProtection'\n13. 'TechSupport'\n14. 'StreamingTV'\n15. 'StreamingMovies'\n16. 'Contract'\n17. 'PaperlessBilling'\n18. 'PaymentMethod'\n19. 'MonthlyCharges'\n20. 'TotalCharges'\n21. 'Churn'\n\n\n",
            "text/latex": "\\begin{enumerate*}\n\\item 'customerID'\n\\item 'gender'\n\\item 'SeniorCitizen'\n\\item 'Partner'\n\\item 'Dependents'\n\\item 'tenure'\n\\item 'PhoneService'\n\\item 'MultipleLines'\n\\item 'InternetService'\n\\item 'OnlineSecurity'\n\\item 'OnlineBackup'\n\\item 'DeviceProtection'\n\\item 'TechSupport'\n\\item 'StreamingTV'\n\\item 'StreamingMovies'\n\\item 'Contract'\n\\item 'PaperlessBilling'\n\\item 'PaymentMethod'\n\\item 'MonthlyCharges'\n\\item 'TotalCharges'\n\\item 'Churn'\n\\end{enumerate*}\n",
            "text/plain": [
              " [1] \"customerID\"       \"gender\"           \"SeniorCitizen\"    \"Partner\"         \n",
              " [5] \"Dependents\"       \"tenure\"           \"PhoneService\"     \"MultipleLines\"   \n",
              " [9] \"InternetService\"  \"OnlineSecurity\"   \"OnlineBackup\"     \"DeviceProtection\"\n",
              "[13] \"TechSupport\"      \"StreamingTV\"      \"StreamingMovies\"  \"Contract\"        \n",
              "[17] \"PaperlessBilling\" \"PaymentMethod\"    \"MonthlyCharges\"   \"TotalCharges\"    \n",
              "[21] \"Churn\"           "
            ]
          },
          "metadata": {}
        }
      ]
    },
    {
      "cell_type": "code",
      "source": [
        "### Tratamento da Base\n",
        "\n",
        "base_trat <- subset(dados, select = c(gender, tenure, Churn, Dependents, \n",
        "                                      Contract, PaymentMethod))\n",
        "head(base_trat)"
      ],
      "metadata": {
        "colab": {
          "base_uri": "https://localhost:8080/",
          "height": 286
        },
        "id": "wl2eHoVoCIMv",
        "outputId": "886ab4e2-53be-461f-e799-d87f4376c2cb"
      },
      "execution_count": 9,
      "outputs": [
        {
          "output_type": "display_data",
          "data": {
            "text/html": [
              "<table class=\"dataframe\">\n",
              "<caption>A data.frame: 6 × 6</caption>\n",
              "<thead>\n",
              "\t<tr><th></th><th scope=col>gender</th><th scope=col>tenure</th><th scope=col>Churn</th><th scope=col>Dependents</th><th scope=col>Contract</th><th scope=col>PaymentMethod</th></tr>\n",
              "\t<tr><th></th><th scope=col>&lt;chr&gt;</th><th scope=col>&lt;int&gt;</th><th scope=col>&lt;chr&gt;</th><th scope=col>&lt;chr&gt;</th><th scope=col>&lt;chr&gt;</th><th scope=col>&lt;chr&gt;</th></tr>\n",
              "</thead>\n",
              "<tbody>\n",
              "\t<tr><th scope=row>1</th><td>Female</td><td> 1</td><td>No </td><td>No</td><td>Month-to-month</td><td>Electronic check         </td></tr>\n",
              "\t<tr><th scope=row>2</th><td>Male  </td><td>34</td><td>No </td><td>No</td><td>One year      </td><td>Mailed check             </td></tr>\n",
              "\t<tr><th scope=row>3</th><td>Male  </td><td> 2</td><td>Yes</td><td>No</td><td>Month-to-month</td><td>Mailed check             </td></tr>\n",
              "\t<tr><th scope=row>4</th><td>Male  </td><td>45</td><td>No </td><td>No</td><td>One year      </td><td>Bank transfer (automatic)</td></tr>\n",
              "\t<tr><th scope=row>5</th><td>Female</td><td> 2</td><td>Yes</td><td>No</td><td>Month-to-month</td><td>Electronic check         </td></tr>\n",
              "\t<tr><th scope=row>6</th><td>Female</td><td> 8</td><td>Yes</td><td>No</td><td>Month-to-month</td><td>Electronic check         </td></tr>\n",
              "</tbody>\n",
              "</table>\n"
            ],
            "text/markdown": "\nA data.frame: 6 × 6\n\n| <!--/--> | gender &lt;chr&gt; | tenure &lt;int&gt; | Churn &lt;chr&gt; | Dependents &lt;chr&gt; | Contract &lt;chr&gt; | PaymentMethod &lt;chr&gt; |\n|---|---|---|---|---|---|---|\n| 1 | Female |  1 | No  | No | Month-to-month | Electronic check          |\n| 2 | Male   | 34 | No  | No | One year       | Mailed check              |\n| 3 | Male   |  2 | Yes | No | Month-to-month | Mailed check              |\n| 4 | Male   | 45 | No  | No | One year       | Bank transfer (automatic) |\n| 5 | Female |  2 | Yes | No | Month-to-month | Electronic check          |\n| 6 | Female |  8 | Yes | No | Month-to-month | Electronic check          |\n\n",
            "text/latex": "A data.frame: 6 × 6\n\\begin{tabular}{r|llllll}\n  & gender & tenure & Churn & Dependents & Contract & PaymentMethod\\\\\n  & <chr> & <int> & <chr> & <chr> & <chr> & <chr>\\\\\n\\hline\n\t1 & Female &  1 & No  & No & Month-to-month & Electronic check         \\\\\n\t2 & Male   & 34 & No  & No & One year       & Mailed check             \\\\\n\t3 & Male   &  2 & Yes & No & Month-to-month & Mailed check             \\\\\n\t4 & Male   & 45 & No  & No & One year       & Bank transfer (automatic)\\\\\n\t5 & Female &  2 & Yes & No & Month-to-month & Electronic check         \\\\\n\t6 & Female &  8 & Yes & No & Month-to-month & Electronic check         \\\\\n\\end{tabular}\n",
            "text/plain": [
              "  gender tenure Churn Dependents Contract       PaymentMethod            \n",
              "1 Female  1     No    No         Month-to-month Electronic check         \n",
              "2 Male   34     No    No         One year       Mailed check             \n",
              "3 Male    2     Yes   No         Month-to-month Mailed check             \n",
              "4 Male   45     No    No         One year       Bank transfer (automatic)\n",
              "5 Female  2     Yes   No         Month-to-month Electronic check         \n",
              "6 Female  8     Yes   No         Month-to-month Electronic check         "
            ]
          },
          "metadata": {}
        }
      ]
    },
    {
      "cell_type": "code",
      "source": [
        "######## Renomendando as variaveis para PT-BR\n",
        "names(base_trat)[grep('gender', names(base_trat))] <- 'Genero'\n",
        "names(base_trat)[grep('tenure', names(base_trat))] <- 'Tempo'\n",
        "names(base_trat)[grep('Churn', names(base_trat))] <- 'Cliente'\n",
        "names(base_trat)[grep('Dependents', names(base_trat))] <- 'Dependentes'\n",
        "names(base_trat)[grep('Contract', names(base_trat))] <- 'Tipo de Contrato'\n",
        "names(base_trat)[grep('PaymentMethod', names(base_trat))] <- 'Metodo de Pagamento'"
      ],
      "metadata": {
        "id": "qs45HmjGF183"
      },
      "execution_count": 10,
      "outputs": []
    },
    {
      "cell_type": "code",
      "source": [
        "names(base_trat)"
      ],
      "metadata": {
        "colab": {
          "base_uri": "https://localhost:8080/",
          "height": 34
        },
        "id": "tdZcD-Z_GFDC",
        "outputId": "d98135f7-e594-471c-9fac-80beaa04e5df"
      },
      "execution_count": 11,
      "outputs": [
        {
          "output_type": "display_data",
          "data": {
            "text/html": [
              "<style>\n",
              ".list-inline {list-style: none; margin:0; padding: 0}\n",
              ".list-inline>li {display: inline-block}\n",
              ".list-inline>li:not(:last-child)::after {content: \"\\00b7\"; padding: 0 .5ex}\n",
              "</style>\n",
              "<ol class=list-inline><li>'Genero'</li><li>'Tempo'</li><li>'Cliente'</li><li>'Dependentes'</li><li>'Tipo de Contrato'</li><li>'Metodo de Pagamento'</li></ol>\n"
            ],
            "text/markdown": "1. 'Genero'\n2. 'Tempo'\n3. 'Cliente'\n4. 'Dependentes'\n5. 'Tipo de Contrato'\n6. 'Metodo de Pagamento'\n\n\n",
            "text/latex": "\\begin{enumerate*}\n\\item 'Genero'\n\\item 'Tempo'\n\\item 'Cliente'\n\\item 'Dependentes'\n\\item 'Tipo de Contrato'\n\\item 'Metodo de Pagamento'\n\\end{enumerate*}\n",
            "text/plain": [
              "[1] \"Genero\"              \"Tempo\"               \"Cliente\"            \n",
              "[4] \"Dependentes\"         \"Tipo de Contrato\"    \"Metodo de Pagamento\""
            ]
          },
          "metadata": {}
        }
      ]
    },
    {
      "cell_type": "markdown",
      "source": [
        "ANALISE DESCRITIVA DOS DADOS"
      ],
      "metadata": {
        "id": "h8tdskp6Izp5"
      }
    },
    {
      "cell_type": "code",
      "source": [
        "summary(base_trat)"
      ],
      "metadata": {
        "colab": {
          "base_uri": "https://localhost:8080/",
          "height": 260
        },
        "id": "-1Xa0Q6XJ8OX",
        "outputId": "30b86c02-0a69-4e77-c298-d3155fa0c182"
      },
      "execution_count": 19,
      "outputs": [
        {
          "output_type": "display_data",
          "data": {
            "text/plain": [
              "    Genero              Tempo         Cliente          Dependentes       \n",
              " Length:7043        Min.   : 0.00   Length:7043        Length:7043       \n",
              " Class :character   1st Qu.: 9.00   Class :character   Class :character  \n",
              " Mode  :character   Median :29.00   Mode  :character   Mode  :character  \n",
              "                    Mean   :32.37                                        \n",
              "                    3rd Qu.:55.00                                        \n",
              "                    Max.   :72.00                                        \n",
              " Tipo de Contrato   Metodo de Pagamento\n",
              " Length:7043        Length:7043        \n",
              " Class :character   Class :character   \n",
              " Mode  :character   Mode  :character   \n",
              "                                       \n",
              "                                       \n",
              "                                       "
            ]
          },
          "metadata": {}
        }
      ]
    },
    {
      "cell_type": "code",
      "source": [
        "round((table(base_trat$Genero)/7043)*100, 2) ## Porcentagem por genero"
      ],
      "metadata": {
        "colab": {
          "base_uri": "https://localhost:8080/",
          "height": 69
        },
        "id": "_mEuihHMCb2E",
        "outputId": "3ece4fae-ce50-47e3-86d6-567ef9f16a79"
      },
      "execution_count": 12,
      "outputs": [
        {
          "output_type": "display_data",
          "data": {
            "text/plain": [
              "\n",
              "Female   Male \n",
              " 49.52  50.48 "
            ]
          },
          "metadata": {}
        }
      ]
    },
    {
      "cell_type": "code",
      "source": [
        "round((table(base_trat$`Tipo de Contrato`)/7043)*100, 2)  ## Porcentagem por Tipo de Contrato"
      ],
      "metadata": {
        "colab": {
          "base_uri": "https://localhost:8080/",
          "height": 69
        },
        "id": "mc7RxAsUKK_W",
        "outputId": "147b20e5-275d-429a-e81c-8c361051a3f5"
      },
      "execution_count": 24,
      "outputs": [
        {
          "output_type": "display_data",
          "data": {
            "text/plain": [
              "\n",
              "Month-to-month       One year       Two year \n",
              "         55.02          20.91          24.07 "
            ]
          },
          "metadata": {}
        }
      ]
    },
    {
      "cell_type": "code",
      "source": [
        "round((table(base_trat$Cliente)/7043)*100, 2)  ## Porcentagem por Cliente"
      ],
      "metadata": {
        "colab": {
          "base_uri": "https://localhost:8080/",
          "height": 69
        },
        "id": "NDulyknqKi7Y",
        "outputId": "7e611555-85cb-440b-e919-24dc36c5ec7c"
      },
      "execution_count": 25,
      "outputs": [
        {
          "output_type": "display_data",
          "data": {
            "text/plain": [
              "\n",
              "   No   Yes \n",
              "73.46 26.54 "
            ]
          },
          "metadata": {}
        }
      ]
    },
    {
      "cell_type": "code",
      "source": [
        "round((table(base_trat$Dependentes)/7043)*100, 2)  ## Porcentagem por Dependentes"
      ],
      "metadata": {
        "colab": {
          "base_uri": "https://localhost:8080/",
          "height": 69
        },
        "id": "tk87GMeQKUP-",
        "outputId": "91effbbd-5569-4554-fb00-228049dc9e2c"
      },
      "execution_count": 26,
      "outputs": [
        {
          "output_type": "display_data",
          "data": {
            "text/plain": [
              "\n",
              "   No   Yes \n",
              "70.04 29.96 "
            ]
          },
          "metadata": {}
        }
      ]
    },
    {
      "cell_type": "code",
      "source": [
        "summary(base_trat$Tempo)"
      ],
      "metadata": {
        "colab": {
          "base_uri": "https://localhost:8080/",
          "height": 52
        },
        "id": "rx-jhqJ2LSaT",
        "outputId": "6a50ad9e-8a59-47b6-8a60-6d2113d33b59"
      },
      "execution_count": 27,
      "outputs": [
        {
          "output_type": "display_data",
          "data": {
            "text/plain": [
              "   Min. 1st Qu.  Median    Mean 3rd Qu.    Max. \n",
              "   0.00    9.00   29.00   32.37   55.00   72.00 "
            ]
          },
          "metadata": {}
        }
      ]
    },
    {
      "cell_type": "markdown",
      "source": [
        "VISUALIZAÇÃO DOS DADOS"
      ],
      "metadata": {
        "id": "67e88eWhMogH"
      }
    },
    {
      "cell_type": "code",
      "source": [],
      "metadata": {
        "id": "lVy1USwYMsm4"
      },
      "execution_count": null,
      "outputs": []
    }
  ]
}