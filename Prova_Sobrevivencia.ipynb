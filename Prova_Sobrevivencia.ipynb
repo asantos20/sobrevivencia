{
  "nbformat": 4,
  "nbformat_minor": 0,
  "metadata": {
    "colab": {
      "provenance": [],
      "authorship_tag": "ABX9TyPS5Q+IC0VtkFO/gzsTqvI3",
      "include_colab_link": true
    },
    "kernelspec": {
      "name": "ir",
      "display_name": "R"
    },
    "language_info": {
      "name": "R"
    }
  },
  "cells": [
    {
      "cell_type": "markdown",
      "metadata": {
        "id": "view-in-github",
        "colab_type": "text"
      },
      "source": [
        "<a href=\"https://colab.research.google.com/github/asantos20/sobrevivencia/blob/main/Prova_Sobrevivencia.ipynb\" target=\"_parent\"><img src=\"https://colab.research.google.com/assets/colab-badge.svg\" alt=\"Open In Colab\"/></a>"
      ]
    },
    {
      "cell_type": "markdown",
      "source": [
        "Setando diretório"
      ],
      "metadata": {
        "id": "rbfibDngDw1n"
      }
    },
    {
      "cell_type": "code",
      "source": [
        "setwd(\"/content/Prova\")"
      ],
      "metadata": {
        "id": "_P6QCC7ECHSZ"
      },
      "execution_count": 1,
      "outputs": []
    },
    {
      "cell_type": "markdown",
      "source": [
        "Bibliotecas"
      ],
      "metadata": {
        "id": "hrgI9PixD5p4"
      }
    },
    {
      "cell_type": "code",
      "source": [
        "install.packages('lubridate')\n",
        "install.packages('dplyr')\n",
        "install.packages('tidyr')\n",
        "install.packages('survival')\n",
        "install.packages('survminer')"
      ],
      "metadata": {
        "colab": {
          "base_uri": "https://localhost:8080/"
        },
        "id": "51T6SLjbCmz7",
        "outputId": "d1070166-6e54-412f-fc23-fbb56eb6e28b"
      },
      "execution_count": null,
      "outputs": [
        {
          "output_type": "stream",
          "name": "stderr",
          "text": [
            "Installing package into ‘/usr/local/lib/R/site-library’\n",
            "(as ‘lib’ is unspecified)\n",
            "\n",
            "Installing package into ‘/usr/local/lib/R/site-library’\n",
            "(as ‘lib’ is unspecified)\n",
            "\n",
            "also installing the dependencies ‘rlang’, ‘vctrs’\n",
            "\n",
            "\n",
            "Installing package into ‘/usr/local/lib/R/site-library’\n",
            "(as ‘lib’ is unspecified)\n",
            "\n",
            "also installing the dependency ‘stringr’\n",
            "\n",
            "\n",
            "Installing package into ‘/usr/local/lib/R/site-library’\n",
            "(as ‘lib’ is unspecified)\n",
            "\n",
            "Installing package into ‘/usr/local/lib/R/site-library’\n",
            "(as ‘lib’ is unspecified)\n",
            "\n",
            "also installing the dependencies ‘numDeriv’, ‘SparseM’, ‘MatrixModels’, ‘minqa’, ‘nloptr’, ‘RcppEigen’, ‘carData’, ‘abind’, ‘pbkrtest’, ‘quantreg’, ‘lme4’, ‘Rcpp’, ‘corrplot’, ‘car’, ‘markdown’, ‘png’, ‘jpeg’, ‘ggrepel’, ‘ggsci’, ‘cowplot’, ‘ggsignif’, ‘polynom’, ‘rstatix’, ‘exactRankTests’, ‘mvtnorm’, ‘KMsurv’, ‘zoo’, ‘km.ci’, ‘xtable’, ‘gridtext’, ‘ggpubr’, ‘gridExtra’, ‘maxstat’, ‘survMisc’, ‘ggtext’\n",
            "\n",
            "\n"
          ]
        }
      ]
    },
    {
      "cell_type": "markdown",
      "source": [
        "Chamando bibliotecas"
      ],
      "metadata": {
        "id": "MOMZtkRSD9rI"
      }
    },
    {
      "cell_type": "code",
      "source": [
        "#### Pacotes\n",
        "\n",
        "library(lubridate) # organizar datas\n",
        "library(dplyr) # manipular dados\n",
        "library(tidyr) # manipular dados\n",
        "library(survival) # estimar curvas\n",
        "library(survminer) # sobrevivencia com ggplot"
      ],
      "metadata": {
        "id": "aFyI3QvDCH1A"
      },
      "execution_count": null,
      "outputs": []
    },
    {
      "cell_type": "markdown",
      "source": [
        "Base de dados"
      ],
      "metadata": {
        "id": "7x5md29sECNw"
      }
    },
    {
      "cell_type": "code",
      "source": [
        "dados <- read.csv('Telecomunicacoes.csv', h = T, sep = ',')\n",
        "View(dados)"
      ],
      "metadata": {
        "id": "XfG8dyL1CICo"
      },
      "execution_count": null,
      "outputs": []
    },
    {
      "cell_type": "code",
      "source": [
        "### Tratamento da Base\n",
        "\n",
        "base_trat <- subset(dados, select = c(gender, tenure, Churn, Dependents, \n",
        "                                      Contract, PaymentMethod))\n",
        "\n",
        "View(base_trat)\n",
        "names(base_trat)\n",
        "\n",
        "######## Renomendando as variaveis para PT-BR\n",
        "names(base_trat)[grep('gender', names(base_trat))] <- 'Genero'\n",
        "names(base_trat)[grep('tenure', names(base_trat))] <- 'Tempo'\n",
        "names(base_trat)[grep('Churn', names(base_trat))] <- 'Cliente'\n",
        "names(base_trat)[grep('Dependents', names(base_trat))] <- 'Dependentes'\n",
        "names(base_trat)[grep('Contract', names(base_trat))] <- 'Tipo de Contrato'\n",
        "names(base_trat)[grep('PaymentMethod', names(base_trat))] <- 'Metodo de Pagamento'"
      ],
      "metadata": {
        "id": "wl2eHoVoCIMv"
      },
      "execution_count": null,
      "outputs": []
    },
    {
      "cell_type": "code",
      "source": [
        "#### ANALISE DESCRITIVA DOS DADOS\n",
        "\n",
        "round((table(base_trat$Genero)/7043)*100, 2) ## Porcentagem por genero"
      ],
      "metadata": {
        "id": "_mEuihHMCb2E"
      },
      "execution_count": null,
      "outputs": []
    }
  ]
}